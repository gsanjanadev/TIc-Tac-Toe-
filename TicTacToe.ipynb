{
 "cells": [
  {
   "cell_type": "markdown",
   "id": "13b34082",
   "metadata": {},
   "source": [
    "Step 1: Write a function that can print out a board. Set up your board as a list, where each index 1-9 corresponds with a number on a number pad, so you get a 3 by 3 board representation."
   ]
  },
  {
   "cell_type": "code",
   "execution_count": 1,
   "id": "d6fe4f00",
   "metadata": {},
   "outputs": [],
   "source": [
    "from IPython.display import clear_output\n",
    "\n",
    "def display_board(board):\n",
    "    clear_output()\n",
    "    print(board[7]+\"|\"+board[8]+\"|\"+board[9])\n",
    "    print(board[4]+\"|\"+board[5]+\"|\"+board[6])\n",
    "    print(board[1]+\"|\"+board[2]+\"|\"+board[3])\n",
    "    "
   ]
  },
  {
   "cell_type": "markdown",
   "id": "9e65800b",
   "metadata": {},
   "source": [
    "TEST Step 1: run your function on a test version of the board list, and make adjustments as necessary"
   ]
  },
  {
   "cell_type": "code",
   "execution_count": 2,
   "id": "4a533b8c",
   "metadata": {},
   "outputs": [
    {
     "name": "stdout",
     "output_type": "stream",
     "text": [
      "X|O|X\n",
      "O|X|O\n",
      "X|O|X\n"
     ]
    }
   ],
   "source": [
    "test_board = ['#','X','O','X','O','X','O','X','O','X']\n",
    "display_board(test_board)"
   ]
  },
  {
   "cell_type": "markdown",
   "id": "73e66f9e",
   "metadata": {},
   "source": [
    "Step 2: Write a function that can take in a player input and assign their marker as 'X' or 'O'. Think about using while loops to continually ask until you get a correct answer."
   ]
  },
  {
   "cell_type": "code",
   "execution_count": 3,
   "id": "f0a12c9b",
   "metadata": {},
   "outputs": [],
   "source": [
    "def player_input():\n",
    "    marker=''\n",
    "    \n",
    "    # First ask Player 1 if wants marker X or O\n",
    "    \n",
    "    while marker!=\"X\" and marker!=\"O\":\n",
    "        marker=input(\"Player 1 choose your marker X or O: \")\n",
    "        \n",
    "    # Assign the opposite marker to Player 2\n",
    "    \n",
    "    if marker==\"X\":\n",
    "        return(\"X\",\"O\")\n",
    "    else:\n",
    "        return(\"O\",\"X\")"
   ]
  },
  {
   "cell_type": "markdown",
   "id": "aff9a217",
   "metadata": {},
   "source": [
    "TEST Step 2: run the function to make sure it returns the desired output"
   ]
  },
  {
   "cell_type": "code",
   "execution_count": 4,
   "id": "1dd158c6",
   "metadata": {},
   "outputs": [
    {
     "name": "stdout",
     "output_type": "stream",
     "text": [
      "Player 1 choose your marker X or O: X\n"
     ]
    },
    {
     "data": {
      "text/plain": [
       "('X', 'O')"
      ]
     },
     "execution_count": 4,
     "metadata": {},
     "output_type": "execute_result"
    }
   ],
   "source": [
    "player_input()"
   ]
  },
  {
   "cell_type": "markdown",
   "id": "b0a28e9f",
   "metadata": {},
   "source": [
    "Step 3: Write a function that takes in the board list object, a marker ('X' or 'O'), and a desired position (number 1-9) and assigns it to the board."
   ]
  },
  {
   "cell_type": "code",
   "execution_count": 5,
   "id": "8e256972",
   "metadata": {},
   "outputs": [],
   "source": [
    "def place_marker(board, marker, position):\n",
    "    board[position]=marker"
   ]
  },
  {
   "cell_type": "markdown",
   "id": "19fb279f",
   "metadata": {},
   "source": [
    "TEST Step 3: run the place marker function using test parameters and display the modified board"
   ]
  },
  {
   "cell_type": "code",
   "execution_count": 6,
   "id": "1a19f535",
   "metadata": {},
   "outputs": [
    {
     "name": "stdout",
     "output_type": "stream",
     "text": [
      "X|$|X\n",
      "O|X|O\n",
      "X|O|X\n"
     ]
    }
   ],
   "source": [
    "place_marker(test_board,'$',8)\n",
    "display_board(test_board)"
   ]
  },
  {
   "cell_type": "markdown",
   "id": "97a52a83",
   "metadata": {},
   "source": [
    "Step 4: Write a function that takes in a board and a mark (X or O) and then checks to see if that mark has won. "
   ]
  },
  {
   "cell_type": "code",
   "execution_count": 7,
   "id": "67ff9536",
   "metadata": {},
   "outputs": [],
   "source": [
    "def win_check(board, mark):\n",
    "    \n",
    "    return ((board[1]==board[2]==board[3]==mark) or \n",
    "            (board[4]==board[5]==board[6]==mark) or\n",
    "            (board[7]==board[8]==board[9]==mark) or\n",
    "            (board[1]==board[4]==board[7]==mark) or\n",
    "            (board[2]==board[5]==board[8]==mark) or\n",
    "            (board[3]==board[6]==board[9]==mark) or\n",
    "            (board[1]==board[5]==board[9]==mark) or\n",
    "            (board[3]==board[5]==board[7]==mark))"
   ]
  },
  {
   "cell_type": "markdown",
   "id": "1848832c",
   "metadata": {},
   "source": [
    "TEST Step 4: run the win_check function against our test_board - it should return True"
   ]
  },
  {
   "cell_type": "code",
   "execution_count": 8,
   "id": "8dd205ff",
   "metadata": {},
   "outputs": [
    {
     "data": {
      "text/plain": [
       "True"
      ]
     },
     "execution_count": 8,
     "metadata": {},
     "output_type": "execute_result"
    }
   ],
   "source": [
    "win_check(test_board,'X')"
   ]
  },
  {
   "cell_type": "markdown",
   "id": "b96e9017",
   "metadata": {},
   "source": [
    "Step 5: Write a function that uses the random module to randomly decide which player goes first. You may want to lookup random.randint() Return a string of which player went first."
   ]
  },
  {
   "cell_type": "code",
   "execution_count": 11,
   "id": "6f90e27e",
   "metadata": {},
   "outputs": [],
   "source": [
    "from random import randint\n",
    "\n",
    "def choose_first():\n",
    "    num=randint(1,2)\n",
    "    if num==1:\n",
    "        return \"Player1\"\n",
    "    if num==2:\n",
    "        return \"Player2\""
   ]
  },
  {
   "cell_type": "code",
   "execution_count": 12,
   "id": "d209115a",
   "metadata": {},
   "outputs": [
    {
     "data": {
      "text/plain": [
       "'Player1'"
      ]
     },
     "execution_count": 12,
     "metadata": {},
     "output_type": "execute_result"
    }
   ],
   "source": [
    "choose_first()"
   ]
  },
  {
   "cell_type": "markdown",
   "id": "a9fb3675",
   "metadata": {},
   "source": [
    "Step 6: Write a function that returns a boolean indicating whether a space on the board is freely available."
   ]
  },
  {
   "cell_type": "code",
   "execution_count": 13,
   "id": "f685e701",
   "metadata": {},
   "outputs": [],
   "source": [
    "def space_check(board, position):\n",
    "    return board[position]==\" \""
   ]
  },
  {
   "cell_type": "markdown",
   "id": "37c872aa",
   "metadata": {},
   "source": [
    "Step 7: Write a function that checks if the board is full and returns a boolean value. True if full, False otherwise."
   ]
  },
  {
   "cell_type": "code",
   "execution_count": 14,
   "id": "4054b6c0",
   "metadata": {},
   "outputs": [],
   "source": [
    "def full_board_check(board):\n",
    "    for i in range(1,10):\n",
    "        if space_check(board,i):\n",
    "            return False\n",
    "        else:\n",
    "            pass\n",
    "    return True"
   ]
  },
  {
   "cell_type": "code",
   "execution_count": 15,
   "id": "a9c2ea09",
   "metadata": {},
   "outputs": [
    {
     "data": {
      "text/plain": [
       "True"
      ]
     },
     "execution_count": 15,
     "metadata": {},
     "output_type": "execute_result"
    }
   ],
   "source": [
    "full_board_check(test_board)"
   ]
  },
  {
   "cell_type": "markdown",
   "id": "29e81eb2",
   "metadata": {},
   "source": [
    "Step 8: Write a function that asks for a player's next position (as a number 1-9) and then uses the function from step 6 to check if it's a free position. If it is, then return the position for later use."
   ]
  },
  {
   "cell_type": "code",
   "execution_count": 16,
   "id": "dce42a0d",
   "metadata": {},
   "outputs": [],
   "source": [
    "def player_choice(board):\n",
    "    position=int(input(\"Please enter a number between 1-9: \"))\n",
    "    if space_check(board,position):\n",
    "        return position\n",
    "    else:\n",
    "        print(\"Sorry that position is occupied! \")"
   ]
  },
  {
   "cell_type": "code",
   "execution_count": 17,
   "id": "172e1096",
   "metadata": {},
   "outputs": [
    {
     "name": "stdout",
     "output_type": "stream",
     "text": [
      "Please enter a number between 1-9: 3\n",
      "Sorry that position is occupied! \n"
     ]
    }
   ],
   "source": [
    "player_choice(test_board)"
   ]
  },
  {
   "cell_type": "markdown",
   "id": "711ea1f4",
   "metadata": {},
   "source": [
    "Step 9: Write a function that asks the player if they want to play again and returns a boolean True if they do want to play again."
   ]
  },
  {
   "cell_type": "code",
   "execution_count": 18,
   "id": "6c46cfec",
   "metadata": {},
   "outputs": [],
   "source": [
    "def replay():\n",
    "    answer=input(\"Do you wanna play again, Yes or No?: \")\n",
    "    if answer==\"Yes\":\n",
    "        return True\n",
    "    else:\n",
    "        print(\"Thanks for playing this game\")"
   ]
  },
  {
   "cell_type": "code",
   "execution_count": 19,
   "id": "d88f4ded",
   "metadata": {},
   "outputs": [
    {
     "name": "stdout",
     "output_type": "stream",
     "text": [
      "X|O|X\n",
      "O|X|O\n",
      " |O|X\n",
      "Please enter a number between 1-9: 4\n",
      "Sorry that position is occupied! \n"
     ]
    },
    {
     "ename": "TypeError",
     "evalue": "list indices must be integers or slices, not NoneType",
     "output_type": "error",
     "traceback": [
      "\u001b[1;31m---------------------------------------------------------------------------\u001b[0m",
      "\u001b[1;31mTypeError\u001b[0m                                 Traceback (most recent call last)",
      "Cell \u001b[1;32mIn[19], line 38\u001b[0m\n\u001b[0;32m     36\u001b[0m display_board(theboard)\n\u001b[0;32m     37\u001b[0m position\u001b[38;5;241m=\u001b[39mplayer_choice(theboard)\n\u001b[1;32m---> 38\u001b[0m \u001b[43mplace_marker\u001b[49m\u001b[43m(\u001b[49m\u001b[43mtheboard\u001b[49m\u001b[43m,\u001b[49m\u001b[43mplayer2_marker\u001b[49m\u001b[43m,\u001b[49m\u001b[43mposition\u001b[49m\u001b[43m)\u001b[49m\n\u001b[0;32m     39\u001b[0m \u001b[38;5;28;01mif\u001b[39;00m win_check(theboard,position):\n\u001b[0;32m     40\u001b[0m     display_board(theboard)\n",
      "Cell \u001b[1;32mIn[5], line 2\u001b[0m, in \u001b[0;36mplace_marker\u001b[1;34m(board, marker, position)\u001b[0m\n\u001b[0;32m      1\u001b[0m \u001b[38;5;28;01mdef\u001b[39;00m \u001b[38;5;21mplace_marker\u001b[39m(board, marker, position):\n\u001b[1;32m----> 2\u001b[0m     board[position]\u001b[38;5;241m=\u001b[39mmarker\n",
      "\u001b[1;31mTypeError\u001b[0m: list indices must be integers or slices, not NoneType"
     ]
    }
   ],
   "source": [
    "print('Welcome to Tic Tac Toe!')\n",
    "\n",
    "while True:\n",
    "    # Reseting the board\n",
    "    theboard=[' ']*10\n",
    "    # Choosing the markers for player1 and player2\n",
    "    player1_marker,player2_marker=player_input()\n",
    "    # Deciding who goes first\n",
    "    turn=choose_first()\n",
    "    print(turn + \" will go first \")\n",
    "    play_game=input(\"Are you ready to play? Type yes or no: \")\n",
    "    \n",
    "    if play_game==\"yes\":\n",
    "        game_on=True\n",
    "    else:\n",
    "        game_on=False\n",
    "        \n",
    "    while game_on:\n",
    "        if turn==\"Player1\":\n",
    "            display_board(theboard)\n",
    "            position=player_choice(theboard)\n",
    "            place_marker(theboard,player1_marker,position)\n",
    "            \n",
    "            if win_check(theboard,position):\n",
    "                display_board(theboard)\n",
    "                print(\"Congratulations! You have won the game\")\n",
    "                game_on=False\n",
    "            else:\n",
    "                if full_board_check(theboard):\n",
    "                    display_board(theboard)\n",
    "                    print(\"The game is a draw! \")\n",
    "                    break\n",
    "                else:\n",
    "                    turn=\"Player2\"\n",
    "        else:\n",
    "            display_board(theboard)\n",
    "            position=player_choice(theboard)\n",
    "            place_marker(theboard,player2_marker,position)\n",
    "            if win_check(theboard,position):\n",
    "                display_board(theboard)\n",
    "                print(\"Congratulations! Player2 won the game\")\n",
    "                game_on=False\n",
    "            else:\n",
    "                if full_board_check(theboard):\n",
    "                    display_board(theboard)\n",
    "                    print(\"The game is a draw! \")\n",
    "                    break\n",
    "                else:\n",
    "                    turn=\"Player1\"\n",
    "                    \n",
    "                    \n",
    "    if not replay():\n",
    "        break\n",
    "            \n",
    "            \n",
    "        \n",
    "    "
   ]
  },
  {
   "cell_type": "code",
   "execution_count": null,
   "id": "811bd88c",
   "metadata": {},
   "outputs": [],
   "source": []
  }
 ],
 "metadata": {
  "kernelspec": {
   "display_name": "Python 3 (ipykernel)",
   "language": "python",
   "name": "python3"
  },
  "language_info": {
   "codemirror_mode": {
    "name": "ipython",
    "version": 3
   },
   "file_extension": ".py",
   "mimetype": "text/x-python",
   "name": "python",
   "nbconvert_exporter": "python",
   "pygments_lexer": "ipython3",
   "version": "3.10.9"
  }
 },
 "nbformat": 4,
 "nbformat_minor": 5
}
